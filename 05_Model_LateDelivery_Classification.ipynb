{
 "cells": [
  {
   "cell_type": "code",
   "execution_count": 75,
   "id": "d0f4a86d-b812-4a77-bfa6-be09d3c06f2f",
   "metadata": {},
   "outputs": [
    {
     "name": "stdout",
     "output_type": "stream",
     "text": [
      "Loaded dataset: (99441, 34)\n"
     ]
    },
    {
     "data": {
      "text/html": [
       "<div>\n",
       "<style scoped>\n",
       "    .dataframe tbody tr th:only-of-type {\n",
       "        vertical-align: middle;\n",
       "    }\n",
       "\n",
       "    .dataframe tbody tr th {\n",
       "        vertical-align: top;\n",
       "    }\n",
       "\n",
       "    .dataframe thead th {\n",
       "        text-align: right;\n",
       "    }\n",
       "</style>\n",
       "<table border=\"1\" class=\"dataframe\">\n",
       "  <thead>\n",
       "    <tr style=\"text-align: right;\">\n",
       "      <th></th>\n",
       "      <th>order_purchase_timestamp</th>\n",
       "      <th>is_late</th>\n",
       "    </tr>\n",
       "  </thead>\n",
       "  <tbody>\n",
       "    <tr>\n",
       "      <th>4541</th>\n",
       "      <td>2016-09-04 21:15:19</td>\n",
       "      <td>False</td>\n",
       "    </tr>\n",
       "    <tr>\n",
       "      <th>4396</th>\n",
       "      <td>2016-09-05 00:15:34</td>\n",
       "      <td>False</td>\n",
       "    </tr>\n",
       "    <tr>\n",
       "      <th>10071</th>\n",
       "      <td>2016-09-13 15:24:19</td>\n",
       "      <td>False</td>\n",
       "    </tr>\n",
       "    <tr>\n",
       "      <th>30710</th>\n",
       "      <td>2016-09-15 12:16:38</td>\n",
       "      <td>True</td>\n",
       "    </tr>\n",
       "    <tr>\n",
       "      <th>83078</th>\n",
       "      <td>2016-10-02 22:07:52</td>\n",
       "      <td>False</td>\n",
       "    </tr>\n",
       "  </tbody>\n",
       "</table>\n",
       "</div>"
      ],
      "text/plain": [
       "      order_purchase_timestamp  is_late\n",
       "4541       2016-09-04 21:15:19    False\n",
       "4396       2016-09-05 00:15:34    False\n",
       "10071      2016-09-13 15:24:19    False\n",
       "30710      2016-09-15 12:16:38     True\n",
       "83078      2016-10-02 22:07:52    False"
      ]
     },
     "execution_count": 75,
     "metadata": {},
     "output_type": "execute_result"
    }
   ],
   "source": [
    "import os\n",
    "import pandas as pd\n",
    "import numpy as np\n",
    "from sklearn.model_selection import train_test_split\n",
    "from sklearn.compose import ColumnTransformer\n",
    "from sklearn.preprocessing import OneHotEncoder, StandardScaler\n",
    "from sklearn.pipeline import Pipeline\n",
    "from sklearn.impute import SimpleImputer\n",
    "from sklearn.metrics import accuracy_score, f1_score, roc_auc_score, classification_report, confusion_matrix\n",
    "from sklearn.dummy import DummyClassifier\n",
    "from sklearn.ensemble import RandomForestClassifier, HistGradientBoostingClassifier\n",
    "from joblib import dump\n",
    "\n",
    "# Paths\n",
    "FEATURES_PATH = \"./data/features/features.parquet\"\n",
    "MODELS_DIR = \"./models\"\n",
    "os.makedirs(MODELS_DIR, exist_ok=True)\n",
    "\n",
    "# Load features\n",
    "features = pd.read_parquet(FEATURES_PATH)\n",
    "\n",
    "# Keep only rows with label\n",
    "df = features.dropna(subset=[\"is_late\"]).copy()\n",
    "df = df.sort_values(\"order_purchase_timestamp\")\n",
    "\n",
    "print(\"Loaded dataset:\", df.shape)\n",
    "df[[\"order_purchase_timestamp\",\"is_late\"]].head()"
   ]
  },
  {
   "cell_type": "code",
   "execution_count": 77,
   "id": "96eafa8a-1c80-4e18-b748-b3c41df5c65f",
   "metadata": {},
   "outputs": [
    {
     "name": "stdout",
     "output_type": "stream",
     "text": [
      "Train/Valid/Test: 11695 15887 71859\n"
     ]
    }
   ],
   "source": [
    "train_end = \"2017-06-01\"\n",
    "valid_end = \"2017-10-01\"\n",
    "\n",
    "train = df[df[\"order_purchase_timestamp\"] < train_end]\n",
    "valid = df[(df[\"order_purchase_timestamp\"] >= train_end) &\n",
    "           (df[\"order_purchase_timestamp\"] < valid_end)]\n",
    "test  = df[df[\"order_purchase_timestamp\"] >= valid_end]\n",
    "\n",
    "print(\"Train/Valid/Test:\", len(train), len(valid), len(test))"
   ]
  },
  {
   "cell_type": "code",
   "execution_count": 79,
   "id": "6d0e2ddd-0c43-4713-89b1-1edf78d6e4c6",
   "metadata": {},
   "outputs": [],
   "source": [
    "num_pipe = Pipeline([\n",
    "    (\"impute\", SimpleImputer(strategy=\"median\")),\n",
    "    (\"scale\",  StandardScaler())\n",
    "])\n",
    "\n",
    "# Use dense output from OneHotEncoder so HGB can consume it\n",
    "try:\n",
    "    cat_pipe = Pipeline([\n",
    "        (\"impute\", SimpleImputer(strategy=\"most_frequent\")),\n",
    "        (\"ohe\",    OneHotEncoder(handle_unknown=\"ignore\", sparse_output=False))\n",
    "    ])\n",
    "except TypeError:\n",
    "    # fallback for older versions\n",
    "    cat_pipe = Pipeline([\n",
    "        (\"impute\", SimpleImputer(strategy=\"most_frequent\")),\n",
    "        (\"ohe\",    OneHotEncoder(handle_unknown=\"ignore\", sparse=False))\n",
    "    ])\n",
    "\n",
    "pre = ColumnTransformer([\n",
    "    (\"num\", num_pipe, num_cols),\n",
    "    (\"cat\", cat_pipe, cat_cols),\n",
    "])\n"
   ]
  },
  {
   "cell_type": "code",
   "execution_count": 81,
   "id": "3cebc085-41ca-4c8b-b09e-0370f642ccc3",
   "metadata": {},
   "outputs": [
    {
     "name": "stdout",
     "output_type": "stream",
     "text": [
      "DummyClassifier(majority)       ACC=0.968  F1=0.000  AUC=0.500\n",
      "RandomForestClassifier          ACC=0.968  F1=0.000  AUC=0.594\n",
      "HistGradientBoostingClassifier  ACC=0.968  F1=0.000  AUC=0.563\n"
     ]
    }
   ],
   "source": [
    "def evaluate_clf(model, name):\n",
    "    model.fit(X_train, y_train)\n",
    "    pred_v = model.predict(X_valid)\n",
    "    proba_v = model.predict_proba(X_valid)[:,1] if hasattr(model,\"predict_proba\") else pred_v\n",
    "    acc = accuracy_score(y_valid, pred_v)\n",
    "    f1  = f1_score(y_valid, pred_v)\n",
    "    auc = roc_auc_score(y_valid, proba_v)\n",
    "    print(f\"{name:30s}  ACC={acc:.3f}  F1={f1:.3f}  AUC={auc:.3f}\")\n",
    "    return model\n",
    "\n",
    "# 1) Baseline classifier (predict majority class)\n",
    "pipe_dummy = Pipeline([(\"pre\", pre), (\"mdl\", DummyClassifier(strategy=\"most_frequent\"))])\n",
    "_ = evaluate_clf(pipe_dummy, \"DummyClassifier(majority)\")\n",
    "\n",
    "# 2) RandomForest\n",
    "pipe_rf = Pipeline([\n",
    "    (\"pre\", pre),\n",
    "    (\"mdl\", RandomForestClassifier(n_estimators=400, random_state=42, n_jobs=-1))\n",
    "])\n",
    "best_model = evaluate_clf(pipe_rf, \"RandomForestClassifier\")\n",
    "\n",
    "# 3) HistGradientBoosting (handles missing values too)\n",
    "pipe_hgb = Pipeline([\n",
    "    (\"pre\", pre),\n",
    "    (\"mdl\", HistGradientBoostingClassifier(max_depth=6, learning_rate=0.1, random_state=42))\n",
    "])\n",
    "best_model = evaluate_clf(pipe_hgb, \"HistGradientBoostingClassifier\")\n"
   ]
  },
  {
   "cell_type": "code",
   "execution_count": 82,
   "id": "b94b5a12-3759-4da6-9d72-c38f4836734f",
   "metadata": {},
   "outputs": [
    {
     "name": "stdout",
     "output_type": "stream",
     "text": [
      "=== Classification Report (Test) ===\n",
      "              precision    recall  f1-score   support\n",
      "\n",
      "       False       0.92      1.00      0.96     66278\n",
      "        True       0.00      0.00      0.00      5581\n",
      "\n",
      "    accuracy                           0.92     71859\n",
      "   macro avg       0.46      0.50      0.48     71859\n",
      "weighted avg       0.85      0.92      0.89     71859\n",
      "\n",
      "Confusion Matrix:\n",
      "[[66274     4]\n",
      " [ 5581     0]]\n",
      "Test ROC-AUC: 0.5363413536070281\n"
     ]
    }
   ],
   "source": [
    "pred_t = best_model.predict(X_test)\n",
    "proba_t = best_model.predict_proba(X_test)[:,1] if hasattr(best_model,\"predict_proba\") else pred_t\n",
    "\n",
    "print(\"=== Classification Report (Test) ===\")\n",
    "print(classification_report(y_test, pred_t))\n",
    "\n",
    "print(\"Confusion Matrix:\")\n",
    "print(confusion_matrix(y_test, pred_t))\n",
    "\n",
    "print(\"Test ROC-AUC:\", roc_auc_score(y_test, proba_t))\n"
   ]
  },
  {
   "cell_type": "code",
   "execution_count": 83,
   "id": "173ab406-b06c-4db7-b957-24c9070e90e4",
   "metadata": {},
   "outputs": [
    {
     "name": "stdout",
     "output_type": "stream",
     "text": [
      "Model saved at: ./models\\late_delivery_clf.joblib\n"
     ]
    }
   ],
   "source": [
    "model_path = os.path.join(MODELS_DIR, \"late_delivery_clf.joblib\")\n",
    "dump(best_model, model_path)\n",
    "print(\"Model saved at:\", model_path)"
   ]
  },
  {
   "cell_type": "code",
   "execution_count": null,
   "id": "7536b5d1-e63a-4238-8267-dce92867a9e7",
   "metadata": {},
   "outputs": [],
   "source": []
  },
  {
   "cell_type": "code",
   "execution_count": null,
   "id": "df69af40-6173-4656-b460-1b897f4c9e00",
   "metadata": {},
   "outputs": [],
   "source": []
  },
  {
   "cell_type": "code",
   "execution_count": null,
   "id": "892a84fd-9c49-4cfa-94fb-465fb8115bed",
   "metadata": {},
   "outputs": [],
   "source": []
  }
 ],
 "metadata": {
  "kernelspec": {
   "display_name": "Python 3 (ipykernel)",
   "language": "python",
   "name": "python3"
  },
  "language_info": {
   "codemirror_mode": {
    "name": "ipython",
    "version": 3
   },
   "file_extension": ".py",
   "mimetype": "text/x-python",
   "name": "python",
   "nbconvert_exporter": "python",
   "pygments_lexer": "ipython3",
   "version": "3.12.4"
  }
 },
 "nbformat": 4,
 "nbformat_minor": 5
}
