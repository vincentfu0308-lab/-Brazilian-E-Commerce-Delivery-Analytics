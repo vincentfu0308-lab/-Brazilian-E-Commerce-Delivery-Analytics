{
 "cells": [
  {
   "cell_type": "code",
   "execution_count": 74,
   "id": "b301c0cc-3949-4ea1-926b-41b592633ecf",
   "metadata": {},
   "outputs": [
    {
     "name": "stdout",
     "output_type": "stream",
     "text": [
      "Loaded: (96476, 34)\n"
     ]
    },
    {
     "data": {
      "text/html": [
       "<div>\n",
       "<style scoped>\n",
       "    .dataframe tbody tr th:only-of-type {\n",
       "        vertical-align: middle;\n",
       "    }\n",
       "\n",
       "    .dataframe tbody tr th {\n",
       "        vertical-align: top;\n",
       "    }\n",
       "\n",
       "    .dataframe thead th {\n",
       "        text-align: right;\n",
       "    }\n",
       "</style>\n",
       "<table border=\"1\" class=\"dataframe\">\n",
       "  <thead>\n",
       "    <tr style=\"text-align: right;\">\n",
       "      <th></th>\n",
       "      <th>order_purchase_timestamp</th>\n",
       "      <th>actual_delivery_days</th>\n",
       "    </tr>\n",
       "  </thead>\n",
       "  <tbody>\n",
       "    <tr>\n",
       "      <th>30710</th>\n",
       "      <td>2016-09-15 12:16:38</td>\n",
       "      <td>54.0</td>\n",
       "    </tr>\n",
       "    <tr>\n",
       "      <th>93285</th>\n",
       "      <td>2016-10-03 09:44:50</td>\n",
       "      <td>23.0</td>\n",
       "    </tr>\n",
       "    <tr>\n",
       "      <th>28424</th>\n",
       "      <td>2016-10-03 16:56:50</td>\n",
       "      <td>24.0</td>\n",
       "    </tr>\n",
       "    <tr>\n",
       "      <th>92636</th>\n",
       "      <td>2016-10-03 21:01:41</td>\n",
       "      <td>35.0</td>\n",
       "    </tr>\n",
       "    <tr>\n",
       "      <th>97979</th>\n",
       "      <td>2016-10-03 21:13:36</td>\n",
       "      <td>30.0</td>\n",
       "    </tr>\n",
       "  </tbody>\n",
       "</table>\n",
       "</div>"
      ],
      "text/plain": [
       "      order_purchase_timestamp  actual_delivery_days\n",
       "30710      2016-09-15 12:16:38                  54.0\n",
       "93285      2016-10-03 09:44:50                  23.0\n",
       "28424      2016-10-03 16:56:50                  24.0\n",
       "92636      2016-10-03 21:01:41                  35.0\n",
       "97979      2016-10-03 21:13:36                  30.0"
      ]
     },
     "execution_count": 74,
     "metadata": {},
     "output_type": "execute_result"
    }
   ],
   "source": [
    "import os\n",
    "import pandas as pd\n",
    "import numpy as np\n",
    "from sklearn.impute import SimpleImputer\n",
    "from sklearn.model_selection import train_test_split\n",
    "from sklearn.compose import ColumnTransformer\n",
    "from sklearn.preprocessing import OneHotEncoder, StandardScaler\n",
    "from sklearn.pipeline import Pipeline\n",
    "from sklearn.metrics import root_mean_squared_error\n",
    "from sklearn.dummy import DummyRegressor\n",
    "from sklearn.ensemble import RandomForestRegressor\n",
    "from joblib import dump\n",
    "\n",
    "FEATURES_PATH = \"./data/features/features.parquet\"\n",
    "MODELS_DIR = \"./models\"\n",
    "os.makedirs(MODELS_DIR, exist_ok=True)\n",
    "\n",
    "# Load features created in Step 3\n",
    "features = pd.read_parquet(FEATURES_PATH)\n",
    "\n",
    "# Keep rows with target present\n",
    "df = features.dropna(subset=[\"actual_delivery_days\"]).copy()\n",
    "df = df.sort_values(\"order_purchase_timestamp\")  # ensure temporal order\n",
    "\n",
    "print(\"Loaded:\", df.shape)\n",
    "df[[\"order_purchase_timestamp\",\"actual_delivery_days\"]].head()"
   ]
  },
  {
   "cell_type": "code",
   "execution_count": 76,
   "id": "b80cb5c5-3dc6-4c06-a774-329bee0224fb",
   "metadata": {},
   "outputs": [
    {
     "name": "stdout",
     "output_type": "stream",
     "text": [
      "Train/Valid/Test sizes: 11069 15350 70057\n"
     ]
    }
   ],
   "source": [
    "# Adjust dates depending on your dataset distribution\n",
    "\n",
    "train_end = \"2017-06-01\"\n",
    "valid_end = \"2017-10-01\"\n",
    "\n",
    "train = df[df[\"order_purchase_timestamp\"] < train_end]\n",
    "valid = df[(df[\"order_purchase_timestamp\"] >= train_end) &\n",
    "           (df[\"order_purchase_timestamp\"] < valid_end)]\n",
    "test  = df[df[\"order_purchase_timestamp\"] >= valid_end]\n",
    "\n",
    "print(\"Train/Valid/Test sizes:\", len(train), len(valid), len(test))"
   ]
  },
  {
   "cell_type": "code",
   "execution_count": 78,
   "id": "561c3431-18ce-4d8e-9ca6-c231c054938b",
   "metadata": {},
   "outputs": [
    {
     "name": "stdout",
     "output_type": "stream",
     "text": [
      "Numeric columns: ['price_sum', 'freight_sum', 'n_items', 'n_sellers', 'n_products', 'avg_price', 'pay_total', 'pay_types', 'installments_max', 'avg_product_weight', 'avg_product_length', 'avg_product_height', 'avg_product_width', 'avg_distance_km', 'purchase_month', 'purchase_dow', 'purchase_hour']\n",
      "Categorical columns: ['customer_state', 'customer_city', 'main_category']\n",
      "NaN ratio in numeric cols (train):\n"
     ]
    },
    {
     "data": {
      "text/plain": [
       "avg_distance_km       0.003794\n",
       "avg_product_length    0.000903\n",
       "avg_product_width     0.000903\n",
       "avg_product_height    0.000903\n",
       "avg_product_weight    0.000903\n",
       "installments_max      0.000090\n",
       "pay_total             0.000090\n",
       "pay_types             0.000090\n",
       "purchase_dow          0.000000\n",
       "purchase_month        0.000000\n",
       "dtype: float64"
      ]
     },
     "metadata": {},
     "output_type": "display_data"
    }
   ],
   "source": [
    "# Candidate feature lists (keep only those that exist)\n",
    "num_candidates = [\n",
    "    \"price_sum\",\"freight_sum\",\"n_items\",\"n_sellers\",\"n_products\",\"avg_price\",\n",
    "    \"pay_total\",\"pay_types\",\"installments_max\",\n",
    "    \"avg_product_weight\",\"avg_product_length\",\"avg_product_height\",\"avg_product_width\",\n",
    "    \"avg_distance_km\",\n",
    "    \"purchase_month\",\"purchase_dow\",\"purchase_hour\"\n",
    "]\n",
    "cat_candidates = [\"customer_state\",\"customer_city\",\"main_category\"]\n",
    "\n",
    "num_cols = [c for c in num_candidates if c in df.columns]\n",
    "cat_cols = [c for c in cat_candidates if c in df.columns]\n",
    "\n",
    "print(\"Numeric columns:\", num_cols)\n",
    "print(\"Categorical columns:\", cat_cols)\n",
    "\n",
    "# Split features/target\n",
    "X_train = train[num_cols + cat_cols]\n",
    "X_valid = valid[num_cols + cat_cols]\n",
    "X_test  = test[num_cols + cat_cols]\n",
    "\n",
    "y_train = train[\"actual_delivery_days\"]\n",
    "y_valid = valid[\"actual_delivery_days\"]\n",
    "y_test  = test[\"actual_delivery_days\"]\n",
    "\n",
    "# Pipelines with imputation to handle NaNs\n",
    "num_pipe = Pipeline([\n",
    "    (\"impute\", SimpleImputer(strategy=\"median\")),     # robust for skewed dists\n",
    "    (\"scale\",  StandardScaler())\n",
    "])\n",
    "cat_pipe = Pipeline([\n",
    "    (\"impute\", SimpleImputer(strategy=\"most_frequent\")),  # fill missing labels\n",
    "    (\"ohe\",    OneHotEncoder(handle_unknown=\"ignore\"))\n",
    "])\n",
    "\n",
    "pre = ColumnTransformer([\n",
    "    (\"num\", num_pipe, num_cols),\n",
    "    (\"cat\", cat_pipe, cat_cols),\n",
    "], remainder=\"drop\")\n",
    "\n",
    "print(\"NaN ratio in numeric cols (train):\")\n",
    "display(X_train[num_cols].isna().mean().sort_values(ascending=False).head(10))"
   ]
  },
  {
   "cell_type": "code",
   "execution_count": 80,
   "id": "3af2d3e6-4f48-4924-bb20-03a666d8c523",
   "metadata": {},
   "outputs": [],
   "source": [
    "from sklearn.metrics import mean_absolute_error, mean_squared_error\n",
    "\n",
    "# Use mean_squared_error(squared=False) to compute RMSE\n",
    "def rmse(y_true, y_pred):\n",
    "    return mean_squared_error(y_true, y_pred, squared=False)\n",
    "\n",
    "root_mean_squared_error = rmse"
   ]
  },
  {
   "cell_type": "code",
   "execution_count": 82,
   "id": "02a360a5-51eb-4c80-ab49-fe13b36a25a5",
   "metadata": {},
   "outputs": [
    {
     "name": "stderr",
     "output_type": "stream",
     "text": [
      "C:\\Users\\12432\\anaconda3\\Lib\\site-packages\\sklearn\\metrics\\_regression.py:483: FutureWarning: 'squared' is deprecated in version 1.4 and will be removed in 1.6. To calculate the root mean squared error, use the function'root_mean_squared_error'.\n",
      "  warnings.warn(\n"
     ]
    },
    {
     "name": "stdout",
     "output_type": "stream",
     "text": [
      "DummyRegressor(mean)      Valid MAE=5.472  RMSE=7.727\n",
      "RandomForestRegressor     Valid MAE=8.013  RMSE=10.728\n"
     ]
    },
    {
     "name": "stderr",
     "output_type": "stream",
     "text": [
      "C:\\Users\\12432\\anaconda3\\Lib\\site-packages\\sklearn\\metrics\\_regression.py:483: FutureWarning: 'squared' is deprecated in version 1.4 and will be removed in 1.6. To calculate the root mean squared error, use the function'root_mean_squared_error'.\n",
      "  warnings.warn(\n"
     ]
    }
   ],
   "source": [
    "def evaluate(model, name):\n",
    "    \"\"\"\n",
    "    Fit model on training set,\n",
    "    evaluate on validation set,\n",
    "    and print MAE (mean absolute error) and RMSE (root mean squared error).\n",
    "    \"\"\"\n",
    "    model.fit(X_train, y_train)\n",
    "    pred_v = model.predict(X_valid)\n",
    "    mae = mean_absolute_error(y_valid, pred_v)\n",
    "    rmse = root_mean_squared_error(y_valid, pred_v)\n",
    "    print(f\"{name:24s}  Valid MAE={mae:.3f}  RMSE={rmse:.3f}\")\n",
    "    return mae, rmse, model\n",
    "\n",
    "# 1) Baseline: always predict the mean\n",
    "pipe_dummy = Pipeline([\n",
    "    (\"pre\", pre), \n",
    "    (\"mdl\", DummyRegressor(strategy=\"mean\"))\n",
    "])\n",
    "_ = evaluate(pipe_dummy, \"DummyRegressor(mean)\")\n",
    "\n",
    "# 2) Random Forest Regressor\n",
    "pipe_rf = Pipeline([\n",
    "    (\"pre\", pre),\n",
    "    (\"mdl\", RandomForestRegressor(\n",
    "        n_estimators=400, random_state=42, n_jobs=-1\n",
    "    ))\n",
    "])\n",
    "mae_rf, rmse_rf, best_model = evaluate(pipe_rf, \"RandomForestRegressor\")"
   ]
  },
  {
   "cell_type": "code",
   "execution_count": 83,
   "id": "9cbf2965-010a-407e-9b80-b5c5de3b5cd9",
   "metadata": {},
   "outputs": [
    {
     "name": "stdout",
     "output_type": "stream",
     "text": [
      "TEST — MAE=7.356  RMSE=10.495\n"
     ]
    },
    {
     "name": "stderr",
     "output_type": "stream",
     "text": [
      "C:\\Users\\12432\\anaconda3\\Lib\\site-packages\\sklearn\\metrics\\_regression.py:483: FutureWarning: 'squared' is deprecated in version 1.4 and will be removed in 1.6. To calculate the root mean squared error, use the function'root_mean_squared_error'.\n",
      "  warnings.warn(\n"
     ]
    }
   ],
   "source": [
    "# Evaluate the chosen model on the held-out test set\n",
    "pred_t = best_model.predict(X_test)\n",
    "mae_t  = mean_absolute_error(y_test, pred_t)\n",
    "rmse_t = root_mean_squared_error(y_test, pred_t)\n",
    "\n",
    "print(f\"TEST — MAE={mae_t:.3f}  RMSE={rmse_t:.3f}\")"
   ]
  },
  {
   "cell_type": "code",
   "execution_count": 84,
   "id": "be159403-7e13-4c37-ae21-2f4a0a7cf031",
   "metadata": {},
   "outputs": [
    {
     "name": "stdout",
     "output_type": "stream",
     "text": [
      "Model saved at: ./models\\delivery_time_rf.joblib\n"
     ]
    }
   ],
   "source": [
    "# Save the best model (pipeline including preprocessing + model)\n",
    "model_path = os.path.join(MODELS_DIR, \"delivery_time_rf.joblib\")\n",
    "dump(best_model, model_path)\n",
    "\n",
    "print(\"Model saved at:\", model_path)"
   ]
  },
  {
   "cell_type": "code",
   "execution_count": 85,
   "id": "e1228c7f-e774-4e88-a14a-bb11a9daecb4",
   "metadata": {},
   "outputs": [
    {
     "name": "stdout",
     "output_type": "stream",
     "text": [
      "Predicted delivery days: [14.5525 15.055  22.8025 16.185  22.2475]\n",
      "Actual delivery days: [5.0, 12.0, 8.0, 9.0, 15.0]\n"
     ]
    }
   ],
   "source": [
    "from joblib import load\n",
    "\n",
    "# Load the trained model\n",
    "model_path = \"./models/delivery_time_rf.joblib\"\n",
    "loaded_model = load(model_path)\n",
    "\n",
    "# Test prediction on a few rows\n",
    "sample = X_test.head(5)\n",
    "print(\"Predicted delivery days:\", loaded_model.predict(sample))\n",
    "print(\"Actual delivery days:\", y_test.head(5).tolist())"
   ]
  },
  {
   "cell_type": "code",
   "execution_count": null,
   "id": "203879ef-ba1d-43c3-92de-3d67ae7cb023",
   "metadata": {},
   "outputs": [],
   "source": []
  },
  {
   "cell_type": "code",
   "execution_count": null,
   "id": "c2eb048e-a8ca-49b0-945e-8cae3222a2ea",
   "metadata": {},
   "outputs": [],
   "source": []
  },
  {
   "cell_type": "code",
   "execution_count": null,
   "id": "823686f2-5ba5-44c4-834d-7896e3d8c352",
   "metadata": {},
   "outputs": [],
   "source": []
  }
 ],
 "metadata": {
  "kernelspec": {
   "display_name": "Python 3 (ipykernel)",
   "language": "python",
   "name": "python3"
  },
  "language_info": {
   "codemirror_mode": {
    "name": "ipython",
    "version": 3
   },
   "file_extension": ".py",
   "mimetype": "text/x-python",
   "name": "python",
   "nbconvert_exporter": "python",
   "pygments_lexer": "ipython3",
   "version": "3.12.4"
  }
 },
 "nbformat": 4,
 "nbformat_minor": 5
}
